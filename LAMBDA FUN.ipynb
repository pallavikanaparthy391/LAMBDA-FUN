{
 "cells": [
  {
   "cell_type": "code",
   "execution_count": null,
   "id": "f2acdc41",
   "metadata": {},
   "outputs": [],
   "source": [
    "PLAY WITH LAMBA FUNCTIONS"
   ]
  },
  {
   "cell_type": "code",
   "execution_count": 1,
   "id": "41f0dfe4",
   "metadata": {},
   "outputs": [
    {
     "name": "stdout",
     "output_type": "stream",
     "text": [
      "35\n"
     ]
    }
   ],
   "source": [
    "r = lambda a : a + 25 #The lambda keyword used to define an anonymous function\n",
    "a = 10\n",
    "print(r(a))\n",
    "r = lambda x, y : x * y # x and y are the parameters that we pass to the lambda fuction"
   ]
  },
  {
   "cell_type": "code",
   "execution_count": null,
   "id": "f907382f",
   "metadata": {},
   "outputs": [],
   "source": []
  },
  {
   "cell_type": "markdown",
   "id": "fdfad4cf",
   "metadata": {},
   "source": [
    "# TEXT CASES\n"
   ]
  },
  {
   "cell_type": "code",
   "execution_count": 2,
   "id": "2f80cb57",
   "metadata": {},
   "outputs": [
    {
     "name": "stdout",
     "output_type": "stream",
     "text": [
      "-10\n"
     ]
    }
   ],
   "source": [
    "r = lambda a : a - 25 #The lambda keyword used to define an anonymous function\n",
    "a = 15\n",
    "print(r(a))\n",
    "r = lambda x, y : x * y # x and y are the parameters that we pass to the lambda fuction"
   ]
  },
  {
   "cell_type": "code",
   "execution_count": null,
   "id": "92ffb3da",
   "metadata": {},
   "outputs": [],
   "source": []
  },
  {
   "cell_type": "code",
   "execution_count": 3,
   "id": "6a878962",
   "metadata": {},
   "outputs": [
    {
     "name": "stdout",
     "output_type": "stream",
     "text": [
      "500\n"
     ]
    }
   ],
   "source": [
    "r = lambda a : a * 25 #The lambda keyword used to define an anonymous function\n",
    "a = 20\n",
    "print(r(a))\n",
    "r = lambda x, y : x * y # x and y are the parameters that we pass to the lambda fuction"
   ]
  },
  {
   "cell_type": "code",
   "execution_count": null,
   "id": "fdc98f12",
   "metadata": {},
   "outputs": [],
   "source": []
  },
  {
   "cell_type": "code",
   "execution_count": null,
   "id": "1b80db2c",
   "metadata": {},
   "outputs": [],
   "source": []
  }
 ],
 "metadata": {
  "kernelspec": {
   "display_name": "Python 3 (ipykernel)",
   "language": "python",
   "name": "python3"
  },
  "language_info": {
   "codemirror_mode": {
    "name": "ipython",
    "version": 3
   },
   "file_extension": ".py",
   "mimetype": "text/x-python",
   "name": "python",
   "nbconvert_exporter": "python",
   "pygments_lexer": "ipython3",
   "version": "3.10.1"
  }
 },
 "nbformat": 4,
 "nbformat_minor": 5
}
